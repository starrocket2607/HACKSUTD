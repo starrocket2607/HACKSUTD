{
  "nbformat": 4,
  "nbformat_minor": 0,
  "metadata": {
    "colab": {
      "name": "What The Hack.ipynb",
      "provenance": [],
      "collapsed_sections": []
    },
    "kernelspec": {
      "name": "python3",
      "display_name": "Python 3"
    },
    "language_info": {
      "name": "python"
    }
  },
  "cells": [
    {
      "cell_type": "code",
      "metadata": {
        "id": "xcpgAVNWzce5"
      },
      "source": [
        "import pandas as pd\n",
        "import tensorflow as tf\n",
        "from tensorflow.keras.models import Sequential\n",
        "from tensorflow.keras.layers import Dense, Activation,Dropout\n",
        "import matplotlib.pyplot as plt\n",
        "import seaborn as sns\n",
        "import numpy as np\n",
        "from sklearn.model_selection import train_test_split\n",
        "from sklearn.preprocessing import MinMaxScaler\n",
        "from tensorflow.keras.callbacks import EarlyStopping\n",
        "from sklearn.metrics import classification_report\n",
        "from sklearn.externals import joblib\n",
        "import pickle\n",
        "\n",
        "\n"
      ],
      "execution_count": 15,
      "outputs": []
    },
    {
      "cell_type": "code",
      "metadata": {
        "id": "uqdQnsFB8oT7",
        "colab": {
          "base_uri": "https://localhost:8080/",
          "height": 363
        },
        "outputId": "6edbc8ef-09ea-4632-bcc5-f930d7b60871"
      },
      "source": [
        "df=pd.read_csv('Crop_recommendation.csv')\n",
        "\n",
        "df.head(10)\n",
        "#df['label'].unique()"
      ],
      "execution_count": 16,
      "outputs": [
        {
          "output_type": "execute_result",
          "data": {
            "text/html": [
              "<div>\n",
              "<style scoped>\n",
              "    .dataframe tbody tr th:only-of-type {\n",
              "        vertical-align: middle;\n",
              "    }\n",
              "\n",
              "    .dataframe tbody tr th {\n",
              "        vertical-align: top;\n",
              "    }\n",
              "\n",
              "    .dataframe thead th {\n",
              "        text-align: right;\n",
              "    }\n",
              "</style>\n",
              "<table border=\"1\" class=\"dataframe\">\n",
              "  <thead>\n",
              "    <tr style=\"text-align: right;\">\n",
              "      <th></th>\n",
              "      <th>N</th>\n",
              "      <th>P</th>\n",
              "      <th>K</th>\n",
              "      <th>temperature</th>\n",
              "      <th>humidity</th>\n",
              "      <th>ph</th>\n",
              "      <th>rainfall</th>\n",
              "      <th>label</th>\n",
              "    </tr>\n",
              "  </thead>\n",
              "  <tbody>\n",
              "    <tr>\n",
              "      <th>0</th>\n",
              "      <td>90</td>\n",
              "      <td>42</td>\n",
              "      <td>43</td>\n",
              "      <td>20.879744</td>\n",
              "      <td>82.002744</td>\n",
              "      <td>6.502985</td>\n",
              "      <td>202.935536</td>\n",
              "      <td>rice</td>\n",
              "    </tr>\n",
              "    <tr>\n",
              "      <th>1</th>\n",
              "      <td>85</td>\n",
              "      <td>58</td>\n",
              "      <td>41</td>\n",
              "      <td>21.770462</td>\n",
              "      <td>80.319644</td>\n",
              "      <td>7.038096</td>\n",
              "      <td>226.655537</td>\n",
              "      <td>rice</td>\n",
              "    </tr>\n",
              "    <tr>\n",
              "      <th>2</th>\n",
              "      <td>60</td>\n",
              "      <td>55</td>\n",
              "      <td>44</td>\n",
              "      <td>23.004459</td>\n",
              "      <td>82.320763</td>\n",
              "      <td>7.840207</td>\n",
              "      <td>263.964248</td>\n",
              "      <td>rice</td>\n",
              "    </tr>\n",
              "    <tr>\n",
              "      <th>3</th>\n",
              "      <td>74</td>\n",
              "      <td>35</td>\n",
              "      <td>40</td>\n",
              "      <td>26.491096</td>\n",
              "      <td>80.158363</td>\n",
              "      <td>6.980401</td>\n",
              "      <td>242.864034</td>\n",
              "      <td>rice</td>\n",
              "    </tr>\n",
              "    <tr>\n",
              "      <th>4</th>\n",
              "      <td>78</td>\n",
              "      <td>42</td>\n",
              "      <td>42</td>\n",
              "      <td>20.130175</td>\n",
              "      <td>81.604873</td>\n",
              "      <td>7.628473</td>\n",
              "      <td>262.717340</td>\n",
              "      <td>rice</td>\n",
              "    </tr>\n",
              "    <tr>\n",
              "      <th>5</th>\n",
              "      <td>69</td>\n",
              "      <td>37</td>\n",
              "      <td>42</td>\n",
              "      <td>23.058049</td>\n",
              "      <td>83.370118</td>\n",
              "      <td>7.073454</td>\n",
              "      <td>251.055000</td>\n",
              "      <td>rice</td>\n",
              "    </tr>\n",
              "    <tr>\n",
              "      <th>6</th>\n",
              "      <td>69</td>\n",
              "      <td>55</td>\n",
              "      <td>38</td>\n",
              "      <td>22.708838</td>\n",
              "      <td>82.639414</td>\n",
              "      <td>5.700806</td>\n",
              "      <td>271.324860</td>\n",
              "      <td>rice</td>\n",
              "    </tr>\n",
              "    <tr>\n",
              "      <th>7</th>\n",
              "      <td>94</td>\n",
              "      <td>53</td>\n",
              "      <td>40</td>\n",
              "      <td>20.277744</td>\n",
              "      <td>82.894086</td>\n",
              "      <td>5.718627</td>\n",
              "      <td>241.974195</td>\n",
              "      <td>rice</td>\n",
              "    </tr>\n",
              "    <tr>\n",
              "      <th>8</th>\n",
              "      <td>89</td>\n",
              "      <td>54</td>\n",
              "      <td>38</td>\n",
              "      <td>24.515881</td>\n",
              "      <td>83.535216</td>\n",
              "      <td>6.685346</td>\n",
              "      <td>230.446236</td>\n",
              "      <td>rice</td>\n",
              "    </tr>\n",
              "    <tr>\n",
              "      <th>9</th>\n",
              "      <td>68</td>\n",
              "      <td>58</td>\n",
              "      <td>38</td>\n",
              "      <td>23.223974</td>\n",
              "      <td>83.033227</td>\n",
              "      <td>6.336254</td>\n",
              "      <td>221.209196</td>\n",
              "      <td>rice</td>\n",
              "    </tr>\n",
              "  </tbody>\n",
              "</table>\n",
              "</div>"
            ],
            "text/plain": [
              "    N   P   K  temperature   humidity        ph    rainfall label\n",
              "0  90  42  43    20.879744  82.002744  6.502985  202.935536  rice\n",
              "1  85  58  41    21.770462  80.319644  7.038096  226.655537  rice\n",
              "2  60  55  44    23.004459  82.320763  7.840207  263.964248  rice\n",
              "3  74  35  40    26.491096  80.158363  6.980401  242.864034  rice\n",
              "4  78  42  42    20.130175  81.604873  7.628473  262.717340  rice\n",
              "5  69  37  42    23.058049  83.370118  7.073454  251.055000  rice\n",
              "6  69  55  38    22.708838  82.639414  5.700806  271.324860  rice\n",
              "7  94  53  40    20.277744  82.894086  5.718627  241.974195  rice\n",
              "8  89  54  38    24.515881  83.535216  6.685346  230.446236  rice\n",
              "9  68  58  38    23.223974  83.033227  6.336254  221.209196  rice"
            ]
          },
          "metadata": {},
          "execution_count": 16
        }
      ]
    },
    {
      "cell_type": "code",
      "metadata": {
        "id": "4CRLSVkT9lLY"
      },
      "source": [
        "dummies=pd.get_dummies(df['label'])\n",
        "df2=pd.concat([df,dummies],axis=1)\n"
      ],
      "execution_count": 17,
      "outputs": []
    },
    {
      "cell_type": "code",
      "metadata": {
        "id": "olZNAjwbxyAu"
      },
      "source": [
        ""
      ],
      "execution_count": 17,
      "outputs": []
    },
    {
      "cell_type": "code",
      "metadata": {
        "id": "6Na0VbW5F5B6",
        "colab": {
          "base_uri": "https://localhost:8080/",
          "height": 35
        },
        "outputId": "fa185b75-8253-47c1-a5a3-1d2825537e6f"
      },
      "source": [
        "mapping=({'rice': 0, 'maize': 1,'chickpea': 2, 'kidneybeans': 3,'pigeonpeas': 4, 'mothbeans': 5,'mungbean': 6, 'blackgram': 7,\n",
        "           'lentil': 8, 'pomegranate': 9,'banana': 10, 'mango': 11,'grapes': 12, 'watermelon': 13,'muskmelon': 14, 'apple': 15,\n",
        "           'orange': 16, 'papaya': 17, 'coconut': 18,'cotton': 19, 'jute': 20,'coffee': 21})\n",
        "\n",
        "mapping = {value : key for (key, value) in mapping.items()}\n",
        "\n",
        "\n",
        "mapping[18]"
      ],
      "execution_count": 18,
      "outputs": [
        {
          "output_type": "execute_result",
          "data": {
            "application/vnd.google.colaboratory.intrinsic+json": {
              "type": "string"
            },
            "text/plain": [
              "'coconut'"
            ]
          },
          "metadata": {},
          "execution_count": 18
        }
      ]
    },
    {
      "cell_type": "code",
      "metadata": {
        "id": "Ll__o3IdXRTU",
        "colab": {
          "base_uri": "https://localhost:8080/"
        },
        "outputId": "9746f5ff-30c1-4c82-9d5e-959154ec1bfa"
      },
      "source": [
        "x=df.drop('label',axis=1)\n",
        "y=dummies\n",
        "\n",
        "x_train, x_test, y_train, y_test = train_test_split(x,y,test_size=0.33)\n",
        "\n",
        "\n",
        "scaler=MinMaxScaler()\n",
        "x_train=scaler.fit_transform(x_train)\n",
        "x_test=scaler.transform(x_test)\n",
        "\n",
        "scaler_filename = \"scaler.save\"\n",
        "joblib.dump(scaler, scaler_filename) \n"
      ],
      "execution_count": 19,
      "outputs": [
        {
          "output_type": "execute_result",
          "data": {
            "text/plain": [
              "['scaler.save']"
            ]
          },
          "metadata": {},
          "execution_count": 19
        }
      ]
    },
    {
      "cell_type": "code",
      "metadata": {
        "id": "uHYih5yD9_Pq"
      },
      "source": [
        "model=Sequential()\n",
        "model.add(Dense(8))\n",
        "model.add(Dense(800,activation='relu'))\n",
        "model.add(Dense(800,activation='relu'))\n",
        "model.add(Dense(800,activation='relu'))\n",
        "model.add(Dense(22,activation='softmax'))"
      ],
      "execution_count": 20,
      "outputs": []
    },
    {
      "cell_type": "code",
      "metadata": {
        "id": "aTK0HcOYZftD",
        "colab": {
          "base_uri": "https://localhost:8080/"
        },
        "outputId": "b6bba579-8a03-419b-851d-d98aac5acce2"
      },
      "source": [
        "model.compile(loss='categorical_crossentropy',optimizer='rmsprop',metrics=['accuracy'])\n",
        "model.fit(x_train,y_train,epochs=50,validation_data=(x_test,y_test))"
      ],
      "execution_count": 21,
      "outputs": [
        {
          "output_type": "stream",
          "name": "stdout",
          "text": [
            "Epoch 1/50\n",
            "47/47 [==============================] - 2s 28ms/step - loss: 2.0393 - accuracy: 0.3419 - val_loss: 2.2972 - val_accuracy: 0.2383\n",
            "Epoch 2/50\n",
            "47/47 [==============================] - 1s 23ms/step - loss: 0.9356 - accuracy: 0.6520 - val_loss: 2.4327 - val_accuracy: 0.3664\n",
            "Epoch 3/50\n",
            "47/47 [==============================] - 1s 24ms/step - loss: 0.6794 - accuracy: 0.7537 - val_loss: 1.1845 - val_accuracy: 0.6405\n",
            "Epoch 4/50\n",
            "47/47 [==============================] - 1s 23ms/step - loss: 0.5125 - accuracy: 0.8134 - val_loss: 1.6619 - val_accuracy: 0.5000\n",
            "Epoch 5/50\n",
            "47/47 [==============================] - 1s 23ms/step - loss: 0.4551 - accuracy: 0.8284 - val_loss: 0.7388 - val_accuracy: 0.7562\n",
            "Epoch 6/50\n",
            "47/47 [==============================] - 1s 23ms/step - loss: 0.3637 - accuracy: 0.8541 - val_loss: 1.4802 - val_accuracy: 0.6295\n",
            "Epoch 7/50\n",
            "47/47 [==============================] - 1s 23ms/step - loss: 0.3372 - accuracy: 0.8765 - val_loss: 0.3469 - val_accuracy: 0.8719\n",
            "Epoch 8/50\n",
            "47/47 [==============================] - 1s 23ms/step - loss: 0.3176 - accuracy: 0.8881 - val_loss: 0.5450 - val_accuracy: 0.8333\n",
            "Epoch 9/50\n",
            "47/47 [==============================] - 1s 23ms/step - loss: 0.2709 - accuracy: 0.8948 - val_loss: 0.4033 - val_accuracy: 0.8678\n",
            "Epoch 10/50\n",
            "47/47 [==============================] - 1s 23ms/step - loss: 0.2504 - accuracy: 0.9118 - val_loss: 0.4736 - val_accuracy: 0.8320\n",
            "Epoch 11/50\n",
            "47/47 [==============================] - 1s 23ms/step - loss: 0.2373 - accuracy: 0.9118 - val_loss: 2.1852 - val_accuracy: 0.5537\n",
            "Epoch 12/50\n",
            "47/47 [==============================] - 1s 23ms/step - loss: 0.2455 - accuracy: 0.9308 - val_loss: 0.1767 - val_accuracy: 0.9284\n",
            "Epoch 13/50\n",
            "47/47 [==============================] - 1s 23ms/step - loss: 0.2162 - accuracy: 0.9267 - val_loss: 0.1627 - val_accuracy: 0.9421\n",
            "Epoch 14/50\n",
            "47/47 [==============================] - 1s 23ms/step - loss: 0.2060 - accuracy: 0.9288 - val_loss: 0.1360 - val_accuracy: 0.9490\n",
            "Epoch 15/50\n",
            "47/47 [==============================] - 1s 23ms/step - loss: 0.1924 - accuracy: 0.9315 - val_loss: 0.3429 - val_accuracy: 0.8884\n",
            "Epoch 16/50\n",
            "47/47 [==============================] - 1s 23ms/step - loss: 0.1732 - accuracy: 0.9376 - val_loss: 0.1022 - val_accuracy: 0.9669\n",
            "Epoch 17/50\n",
            "47/47 [==============================] - 1s 24ms/step - loss: 0.1713 - accuracy: 0.9396 - val_loss: 0.1201 - val_accuracy: 0.9656\n",
            "Epoch 18/50\n",
            "47/47 [==============================] - 1s 23ms/step - loss: 0.1363 - accuracy: 0.9505 - val_loss: 0.3507 - val_accuracy: 0.8719\n",
            "Epoch 19/50\n",
            "47/47 [==============================] - 1s 23ms/step - loss: 0.1698 - accuracy: 0.9410 - val_loss: 0.0927 - val_accuracy: 0.9711\n",
            "Epoch 20/50\n",
            "47/47 [==============================] - 1s 24ms/step - loss: 0.1428 - accuracy: 0.9532 - val_loss: 0.5998 - val_accuracy: 0.8540\n",
            "Epoch 21/50\n",
            "47/47 [==============================] - 1s 24ms/step - loss: 0.1346 - accuracy: 0.9505 - val_loss: 0.1415 - val_accuracy: 0.9463\n",
            "Epoch 22/50\n",
            "47/47 [==============================] - 1s 24ms/step - loss: 0.1438 - accuracy: 0.9484 - val_loss: 0.1754 - val_accuracy: 0.9477\n",
            "Epoch 23/50\n",
            "47/47 [==============================] - 1s 23ms/step - loss: 0.1195 - accuracy: 0.9478 - val_loss: 0.6273 - val_accuracy: 0.8609\n",
            "Epoch 24/50\n",
            "47/47 [==============================] - 1s 23ms/step - loss: 0.1375 - accuracy: 0.9539 - val_loss: 0.1831 - val_accuracy: 0.9435\n",
            "Epoch 25/50\n",
            "47/47 [==============================] - 1s 23ms/step - loss: 0.1295 - accuracy: 0.9559 - val_loss: 0.2429 - val_accuracy: 0.9366\n",
            "Epoch 26/50\n",
            "47/47 [==============================] - 1s 23ms/step - loss: 0.1275 - accuracy: 0.9566 - val_loss: 0.4345 - val_accuracy: 0.8926\n",
            "Epoch 27/50\n",
            "47/47 [==============================] - 1s 23ms/step - loss: 0.0891 - accuracy: 0.9729 - val_loss: 0.2403 - val_accuracy: 0.9105\n",
            "Epoch 28/50\n",
            "47/47 [==============================] - 1s 23ms/step - loss: 0.1449 - accuracy: 0.9518 - val_loss: 0.1094 - val_accuracy: 0.9573\n",
            "Epoch 29/50\n",
            "47/47 [==============================] - 1s 24ms/step - loss: 0.1046 - accuracy: 0.9661 - val_loss: 0.9767 - val_accuracy: 0.7837\n",
            "Epoch 30/50\n",
            "47/47 [==============================] - 1s 24ms/step - loss: 0.1175 - accuracy: 0.9715 - val_loss: 0.0839 - val_accuracy: 0.9642\n",
            "Epoch 31/50\n",
            "47/47 [==============================] - 1s 25ms/step - loss: 0.1489 - accuracy: 0.9647 - val_loss: 0.2504 - val_accuracy: 0.9229\n",
            "Epoch 32/50\n",
            "47/47 [==============================] - 1s 23ms/step - loss: 0.0936 - accuracy: 0.9654 - val_loss: 0.1147 - val_accuracy: 0.9504\n",
            "Epoch 33/50\n",
            "47/47 [==============================] - 1s 23ms/step - loss: 0.0760 - accuracy: 0.9749 - val_loss: 0.0813 - val_accuracy: 0.9738\n",
            "Epoch 34/50\n",
            "47/47 [==============================] - 1s 24ms/step - loss: 0.0910 - accuracy: 0.9640 - val_loss: 0.0605 - val_accuracy: 0.9711\n",
            "Epoch 35/50\n",
            "47/47 [==============================] - 1s 23ms/step - loss: 0.0744 - accuracy: 0.9695 - val_loss: 0.1255 - val_accuracy: 0.9656\n",
            "Epoch 36/50\n",
            "47/47 [==============================] - 1s 23ms/step - loss: 0.1076 - accuracy: 0.9729 - val_loss: 0.0652 - val_accuracy: 0.9780\n",
            "Epoch 37/50\n",
            "47/47 [==============================] - 1s 23ms/step - loss: 0.0901 - accuracy: 0.9735 - val_loss: 0.1986 - val_accuracy: 0.9353\n",
            "Epoch 38/50\n",
            "47/47 [==============================] - 1s 24ms/step - loss: 0.0891 - accuracy: 0.9701 - val_loss: 0.1135 - val_accuracy: 0.9587\n",
            "Epoch 39/50\n",
            "47/47 [==============================] - 1s 24ms/step - loss: 0.0763 - accuracy: 0.9735 - val_loss: 0.1885 - val_accuracy: 0.9380\n",
            "Epoch 40/50\n",
            "47/47 [==============================] - 1s 23ms/step - loss: 0.0937 - accuracy: 0.9661 - val_loss: 0.1009 - val_accuracy: 0.9614\n",
            "Epoch 41/50\n",
            "47/47 [==============================] - 1s 24ms/step - loss: 0.0708 - accuracy: 0.9715 - val_loss: 0.0795 - val_accuracy: 0.9711\n",
            "Epoch 42/50\n",
            "47/47 [==============================] - 1s 23ms/step - loss: 0.0793 - accuracy: 0.9763 - val_loss: 0.0463 - val_accuracy: 0.9848\n",
            "Epoch 43/50\n",
            "47/47 [==============================] - 1s 23ms/step - loss: 0.0841 - accuracy: 0.9722 - val_loss: 0.1619 - val_accuracy: 0.9518\n",
            "Epoch 44/50\n",
            "47/47 [==============================] - 1s 23ms/step - loss: 0.0715 - accuracy: 0.9776 - val_loss: 0.0766 - val_accuracy: 0.9725\n",
            "Epoch 45/50\n",
            "47/47 [==============================] - 1s 23ms/step - loss: 0.0765 - accuracy: 0.9783 - val_loss: 0.1131 - val_accuracy: 0.9545\n",
            "Epoch 46/50\n",
            "47/47 [==============================] - 1s 24ms/step - loss: 0.0597 - accuracy: 0.9763 - val_loss: 0.1011 - val_accuracy: 0.9725\n",
            "Epoch 47/50\n",
            "47/47 [==============================] - 1s 24ms/step - loss: 0.0695 - accuracy: 0.9756 - val_loss: 0.0982 - val_accuracy: 0.9628\n",
            "Epoch 48/50\n",
            "47/47 [==============================] - 1s 24ms/step - loss: 0.0513 - accuracy: 0.9830 - val_loss: 0.0792 - val_accuracy: 0.9780\n",
            "Epoch 49/50\n",
            "47/47 [==============================] - 1s 24ms/step - loss: 0.0916 - accuracy: 0.9722 - val_loss: 0.0592 - val_accuracy: 0.9793\n",
            "Epoch 50/50\n",
            "47/47 [==============================] - 1s 24ms/step - loss: 0.0554 - accuracy: 0.9817 - val_loss: 0.4217 - val_accuracy: 0.8843\n"
          ]
        },
        {
          "output_type": "execute_result",
          "data": {
            "text/plain": [
              "<keras.callbacks.History at 0x7f2b80384410>"
            ]
          },
          "metadata": {},
          "execution_count": 21
        }
      ]
    },
    {
      "cell_type": "code",
      "metadata": {
        "id": "VeVsBZQGHb8m"
      },
      "source": [
        "model.save('model.h5')"
      ],
      "execution_count": 22,
      "outputs": []
    },
    {
      "cell_type": "code",
      "metadata": {
        "id": "Ao1Bs0pt4MIT",
        "colab": {
          "base_uri": "https://localhost:8080/"
        },
        "outputId": "44e6f1c7-54a2-49ef-8990-dffe4fe18445"
      },
      "source": [
        "model.evaluate(x_test,y_test)\n"
      ],
      "execution_count": 23,
      "outputs": [
        {
          "output_type": "stream",
          "name": "stdout",
          "text": [
            "23/23 [==============================] - 0s 5ms/step - loss: 0.4217 - accuracy: 0.8843\n"
          ]
        },
        {
          "output_type": "execute_result",
          "data": {
            "text/plain": [
              "[0.4217321276664734, 0.8842975497245789]"
            ]
          },
          "metadata": {},
          "execution_count": 23
        }
      ]
    },
    {
      "cell_type": "code",
      "metadata": {
        "id": "8u6vkVtBrpyK"
      },
      "source": [
        ""
      ],
      "execution_count": 24,
      "outputs": []
    },
    {
      "cell_type": "code",
      "metadata": {
        "id": "bjrzwhtPc45e"
      },
      "source": [
        "predict_x=np.argmin(model.predict(x,verbose=1,batch_size=1,steps=None),axis=1)\n",
        "\n",
        "\n",
        "c=None\n",
        "\n",
        "for i in predict_x:\n",
        "  c=i\n",
        "  print(mapping[c])"
      ],
      "execution_count": null,
      "outputs": []
    },
    {
      "cell_type": "code",
      "metadata": {
        "id": "3r7jVKxLg5s7",
        "colab": {
          "base_uri": "https://localhost:8080/"
        },
        "outputId": "b0581240-a1f6-4c1a-c7fb-2d0e3c6bc7af"
      },
      "source": [
        "x_train[:1]"
      ],
      "execution_count": 26,
      "outputs": [
        {
          "output_type": "execute_result",
          "data": {
            "text/plain": [
              "array([[0.13571429, 0.82142857, 0.95      , 0.27103274, 0.78005956,\n",
              "        0.37474606, 0.19176355]])"
            ]
          },
          "metadata": {},
          "execution_count": 26
        }
      ]
    },
    {
      "cell_type": "code",
      "metadata": {
        "id": "hix59N9Bhw9s",
        "colab": {
          "base_uri": "https://localhost:8080/"
        },
        "outputId": "94dcbcf7-9dd8-4e06-8a95-0408b57ccba9"
      },
      "source": [
        "a=np.array([[0.27857143,0.37142857, 0.07, 0.58501852,0.3693819 ,\n",
        "        0.45363027,0.52164782]])\n",
        "a"
      ],
      "execution_count": 27,
      "outputs": [
        {
          "output_type": "execute_result",
          "data": {
            "text/plain": [
              "array([[0.27857143, 0.37142857, 0.07      , 0.58501852, 0.3693819 ,\n",
              "        0.45363027, 0.52164782]])"
            ]
          },
          "metadata": {},
          "execution_count": 27
        }
      ]
    },
    {
      "cell_type": "code",
      "metadata": {
        "id": "52TPeQ_HPkdZ",
        "colab": {
          "base_uri": "https://localhost:8080/",
          "height": 81
        },
        "outputId": "8ad50ec3-267b-41a6-fdc0-423c3133c995"
      },
      "source": [
        "x[:1]"
      ],
      "execution_count": 28,
      "outputs": [
        {
          "output_type": "execute_result",
          "data": {
            "text/html": [
              "<div>\n",
              "<style scoped>\n",
              "    .dataframe tbody tr th:only-of-type {\n",
              "        vertical-align: middle;\n",
              "    }\n",
              "\n",
              "    .dataframe tbody tr th {\n",
              "        vertical-align: top;\n",
              "    }\n",
              "\n",
              "    .dataframe thead th {\n",
              "        text-align: right;\n",
              "    }\n",
              "</style>\n",
              "<table border=\"1\" class=\"dataframe\">\n",
              "  <thead>\n",
              "    <tr style=\"text-align: right;\">\n",
              "      <th></th>\n",
              "      <th>N</th>\n",
              "      <th>P</th>\n",
              "      <th>K</th>\n",
              "      <th>temperature</th>\n",
              "      <th>humidity</th>\n",
              "      <th>ph</th>\n",
              "      <th>rainfall</th>\n",
              "    </tr>\n",
              "  </thead>\n",
              "  <tbody>\n",
              "    <tr>\n",
              "      <th>0</th>\n",
              "      <td>90</td>\n",
              "      <td>42</td>\n",
              "      <td>43</td>\n",
              "      <td>20.879744</td>\n",
              "      <td>82.002744</td>\n",
              "      <td>6.502985</td>\n",
              "      <td>202.935536</td>\n",
              "    </tr>\n",
              "  </tbody>\n",
              "</table>\n",
              "</div>"
            ],
            "text/plain": [
              "    N   P   K  temperature   humidity        ph    rainfall\n",
              "0  90  42  43    20.879744  82.002744  6.502985  202.935536"
            ]
          },
          "metadata": {},
          "execution_count": 28
        }
      ]
    },
    {
      "cell_type": "code",
      "metadata": {
        "id": "MCog5Y1aEMyt",
        "colab": {
          "base_uri": "https://localhost:8080/",
          "height": 35
        },
        "outputId": "ec22ebb3-ed1a-491b-8392-64564cb64a7a"
      },
      "source": [
        "input=scaler.transform(x[3:4])\n",
        "predict_x=model.predict(input) \n",
        "classes_x=np.argmin(predict_x,axis=1)\n",
        "\n",
        "c=None\n",
        "\n",
        "for i in classes_x:\n",
        "  c=i\n",
        "\n",
        "mapping[c]\n"
      ],
      "execution_count": 29,
      "outputs": [
        {
          "output_type": "execute_result",
          "data": {
            "application/vnd.google.colaboratory.intrinsic+json": {
              "type": "string"
            },
            "text/plain": [
              "'muskmelon'"
            ]
          },
          "metadata": {},
          "execution_count": 29
        }
      ]
    },
    {
      "cell_type": "code",
      "metadata": {
        "id": "e6j_Z8r2EeuA",
        "colab": {
          "base_uri": "https://localhost:8080/",
          "height": 81
        },
        "outputId": "f1f4281f-c13b-4e2a-a4a8-46f6d9c35455"
      },
      "source": [
        "x[0:1]"
      ],
      "execution_count": 30,
      "outputs": [
        {
          "output_type": "execute_result",
          "data": {
            "text/html": [
              "<div>\n",
              "<style scoped>\n",
              "    .dataframe tbody tr th:only-of-type {\n",
              "        vertical-align: middle;\n",
              "    }\n",
              "\n",
              "    .dataframe tbody tr th {\n",
              "        vertical-align: top;\n",
              "    }\n",
              "\n",
              "    .dataframe thead th {\n",
              "        text-align: right;\n",
              "    }\n",
              "</style>\n",
              "<table border=\"1\" class=\"dataframe\">\n",
              "  <thead>\n",
              "    <tr style=\"text-align: right;\">\n",
              "      <th></th>\n",
              "      <th>N</th>\n",
              "      <th>P</th>\n",
              "      <th>K</th>\n",
              "      <th>temperature</th>\n",
              "      <th>humidity</th>\n",
              "      <th>ph</th>\n",
              "      <th>rainfall</th>\n",
              "    </tr>\n",
              "  </thead>\n",
              "  <tbody>\n",
              "    <tr>\n",
              "      <th>0</th>\n",
              "      <td>90</td>\n",
              "      <td>42</td>\n",
              "      <td>43</td>\n",
              "      <td>20.879744</td>\n",
              "      <td>82.002744</td>\n",
              "      <td>6.502985</td>\n",
              "      <td>202.935536</td>\n",
              "    </tr>\n",
              "  </tbody>\n",
              "</table>\n",
              "</div>"
            ],
            "text/plain": [
              "    N   P   K  temperature   humidity        ph    rainfall\n",
              "0  90  42  43    20.879744  82.002744  6.502985  202.935536"
            ]
          },
          "metadata": {},
          "execution_count": 30
        }
      ]
    },
    {
      "cell_type": "code",
      "metadata": {
        "id": "Ffs5xKbeQuV0"
      },
      "source": [
        "def crop_prediction(n,p,k,temp,humidity,ph,rainfall):\n",
        "  a=np.array([[n,p,k,temp,humidity,ph,rainfall]])\n",
        "  a=scaler.transform(a)\n",
        "  predict_x=np.argmin(model.predict(a,verbose=0,batch_size=None,steps=None),axis=1)\n",
        "\n",
        "  \n",
        "  \n",
        "\n",
        "  c=None\n",
        "\n",
        "  for i in predict_x:\n",
        "    c=i\n",
        "\n",
        "  return mapping[c]\n",
        "  \n",
        "\n",
        "\n",
        "\n"
      ],
      "execution_count": 31,
      "outputs": []
    },
    {
      "cell_type": "code",
      "metadata": {
        "id": "WsNt5sZeaLpT",
        "colab": {
          "base_uri": "https://localhost:8080/",
          "height": 35
        },
        "outputId": "283f8c42-118f-45ac-a25a-02ba490e6e3a"
      },
      "source": [
        "crop_prediction(90,42,43,20,82,6,202)\n",
        "\n",
        "\n"
      ],
      "execution_count": 32,
      "outputs": [
        {
          "output_type": "execute_result",
          "data": {
            "application/vnd.google.colaboratory.intrinsic+json": {
              "type": "string"
            },
            "text/plain": [
              "'muskmelon'"
            ]
          },
          "metadata": {},
          "execution_count": 32
        }
      ]
    },
    {
      "cell_type": "code",
      "metadata": {
        "id": "T175NId0bltV",
        "colab": {
          "base_uri": "https://localhost:8080/"
        },
        "outputId": "335c2431-a0e0-448d-9065-db528d48af10"
      },
      "source": [
        "b=np.array([[90,42,43,20,82,6,202]])\n",
        "scaler.transform(b)\n",
        "\n",
        "\n"
      ],
      "execution_count": 33,
      "outputs": [
        {
          "output_type": "execute_result",
          "data": {
            "text/plain": [
              "array([[0.64285714, 0.26428571, 0.19      , 0.30788656, 0.7903157 ,\n",
              "        0.38543803, 0.65346833]])"
            ]
          },
          "metadata": {},
          "execution_count": 33
        }
      ]
    },
    {
      "cell_type": "code",
      "metadata": {
        "id": "-QA2Em16jqao"
      },
      "source": [
        ""
      ],
      "execution_count": 33,
      "outputs": []
    },
    {
      "cell_type": "code",
      "metadata": {
        "id": "ZPnOlFKuj2fM"
      },
      "source": [
        ""
      ],
      "execution_count": 33,
      "outputs": []
    }
  ]
}